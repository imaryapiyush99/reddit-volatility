{
 "cells": [
  {
   "cell_type": "code",
   "execution_count": null,
   "id": "02f10e73",
   "metadata": {
    "vscode": {
     "languageId": "plaintext"
    }
   },
   "outputs": [],
   "source": [
    "# Quick testing of sentiment analysis and volatility tracker\n",
    "from utils.sentiment import analyze_text\n",
    "from utils.volatility import VolatilityTracker\n",
    "\n",
    "sample_comments = [\n",
    "    \"I feel really happy today!\",\n",
    "    \"This is so frustrating and depressing.\",\n",
    "    \"I don’t know what to do anymore...\"\n",
    "]\n",
    "\n",
    "tracker = VolatilityTracker(window_size=3)\n",
    "\n",
    "for text in sample_comments:\n",
    "    score = analyze_text(text)\n",
    "    vol = tracker.update(score)\n",
    "    print(f\"Comment: {text}\\nScore: {score:.3f}, Volatility: {vol:.3f}\\n\")\n"
   ]
  }
 ],
 "metadata": {
  "language_info": {
   "name": "python"
  }
 },
 "nbformat": 4,
 "nbformat_minor": 5
}
